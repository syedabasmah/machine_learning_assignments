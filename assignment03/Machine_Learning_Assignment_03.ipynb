{
  "nbformat": 4,
  "nbformat_minor": 0,
  "metadata": {
    "colab": {
      "provenance": [],
      "collapsed_sections": [
        "m99eF3vhBCaD",
        "IoDdl4tErLQR",
        "jf6Ah6OXtcNm"
      ],
      "authorship_tag": "ABX9TyMxidienDqnK/sbansg/O5j",
      "include_colab_link": true
    },
    "kernelspec": {
      "name": "python3",
      "display_name": "Python 3"
    },
    "language_info": {
      "name": "python"
    }
  },
  "cells": [
    {
      "cell_type": "markdown",
      "metadata": {
        "id": "view-in-github",
        "colab_type": "text"
      },
      "source": [
        "<a href=\"https://colab.research.google.com/github/syedabasmah/machine_learning_assignments/blob/main/assignment03/Machine_Learning_Assignment_03.ipynb\" target=\"_parent\"><img src=\"https://colab.research.google.com/assets/colab-badge.svg\" alt=\"Open In Colab\"/></a>"
      ]
    },
    {
      "cell_type": "markdown",
      "source": [
        "**Assignment Instructions:**"
      ],
      "metadata": {
        "id": "tkcul3s0RDlS"
      }
    },
    {
      "cell_type": "markdown",
      "source": [
        "![image.png](data:image/png;base64,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)"
      ],
      "metadata": {
        "id": "o2FnvQfzQ71S"
      }
    },
    {
      "cell_type": "markdown",
      "source": [
        "# **Question 1: Part (I): Load the Spam email and split it into Train and test**"
      ],
      "metadata": {
        "id": "m99eF3vhBCaD"
      }
    },
    {
      "cell_type": "markdown",
      "source": [
        "**Import the libraries:**"
      ],
      "metadata": {
        "id": "xTvGBKVZ_k0h"
      }
    },
    {
      "cell_type": "code",
      "source": [
        "import pandas as pd\n",
        "import numpy as np\n",
        "import warnings\n",
        "warnings.filterwarnings(\"ignore\")\n",
        "import matplotlib.pyplot as plt\n",
        "\n",
        "from google.colab import drive\n",
        "drive.mount('/content/drive')"
      ],
      "metadata": {
        "colab": {
          "base_uri": "https://localhost:8080/"
        },
        "id": "UocC4RkbBQWv",
        "outputId": "4909b344-3442-4b15-acab-08d5ff856351"
      },
      "execution_count": null,
      "outputs": [
        {
          "output_type": "stream",
          "name": "stdout",
          "text": [
            "Drive already mounted at /content/drive; to attempt to forcibly remount, call drive.mount(\"/content/drive\", force_remount=True).\n"
          ]
        }
      ]
    },
    {
      "cell_type": "markdown",
      "source": [
        "**Read the file:**"
      ],
      "metadata": {
        "id": "UOd69OvzNXgu"
      }
    },
    {
      "cell_type": "code",
      "source": [
        "df = pd.read_csv('/content/drive/MyDrive/emails.csv')"
      ],
      "metadata": {
        "id": "AvP0rvrBNYEW"
      },
      "execution_count": null,
      "outputs": []
    },
    {
      "cell_type": "markdown",
      "source": [
        "**Data analysis:**"
      ],
      "metadata": {
        "id": "BRKmadu7_yBr"
      }
    },
    {
      "cell_type": "code",
      "source": [
        "df.describe()"
      ],
      "metadata": {
        "colab": {
          "base_uri": "https://localhost:8080/"
        },
        "id": "EFDdJsqzU4UO",
        "outputId": "7452d575-67f3-43cf-bf94-f8e888acc0a6"
      },
      "execution_count": null,
      "outputs": [
        {
          "output_type": "execute_result",
          "data": {
            "text/plain": [
              "               the           to          ect          and          for  \\\n",
              "count  5172.000000  5172.000000  5172.000000  5172.000000  5172.000000   \n",
              "mean      6.640565     6.188128     5.143852     3.075599     3.124710   \n",
              "std      11.745009     9.534576    14.101142     6.045970     4.680522   \n",
              "min       0.000000     0.000000     1.000000     0.000000     0.000000   \n",
              "25%       0.000000     1.000000     1.000000     0.000000     1.000000   \n",
              "50%       3.000000     3.000000     1.000000     1.000000     2.000000   \n",
              "75%       8.000000     7.000000     4.000000     3.000000     4.000000   \n",
              "max     210.000000   132.000000   344.000000    89.000000    47.000000   \n",
              "\n",
              "                of            a          you          hou           in  ...  \\\n",
              "count  5172.000000  5172.000000  5172.000000  5172.000000  5172.000000  ...   \n",
              "mean      2.627030    55.517401     2.466551     2.024362    10.600155  ...   \n",
              "std       6.229845    87.574172     4.314444     6.967878    19.281892  ...   \n",
              "min       0.000000     0.000000     0.000000     0.000000     0.000000  ...   \n",
              "25%       0.000000    12.000000     0.000000     0.000000     1.000000  ...   \n",
              "50%       1.000000    28.000000     1.000000     0.000000     5.000000  ...   \n",
              "75%       2.000000    62.250000     3.000000     1.000000    12.000000  ...   \n",
              "max      77.000000  1898.000000    70.000000   167.000000   223.000000  ...   \n",
              "\n",
              "          connevey          jay       valued          lay  infrastructure  \\\n",
              "count  5172.000000  5172.000000  5172.000000  5172.000000     5172.000000   \n",
              "mean      0.005027     0.012568     0.010634     0.098028        0.004254   \n",
              "std       0.105788     0.199682     0.116693     0.569532        0.096252   \n",
              "min       0.000000     0.000000     0.000000     0.000000        0.000000   \n",
              "25%       0.000000     0.000000     0.000000     0.000000        0.000000   \n",
              "50%       0.000000     0.000000     0.000000     0.000000        0.000000   \n",
              "75%       0.000000     0.000000     0.000000     0.000000        0.000000   \n",
              "max       4.000000     7.000000     2.000000    12.000000        3.000000   \n",
              "\n",
              "          military     allowing           ff          dry   Prediction  \n",
              "count  5172.000000  5172.000000  5172.000000  5172.000000  5172.000000  \n",
              "mean      0.006574     0.004060     0.914733     0.006961     0.290023  \n",
              "std       0.138908     0.072145     2.780203     0.098086     0.453817  \n",
              "min       0.000000     0.000000     0.000000     0.000000     0.000000  \n",
              "25%       0.000000     0.000000     0.000000     0.000000     0.000000  \n",
              "50%       0.000000     0.000000     0.000000     0.000000     0.000000  \n",
              "75%       0.000000     0.000000     1.000000     0.000000     1.000000  \n",
              "max       4.000000     3.000000   114.000000     4.000000     1.000000  \n",
              "\n",
              "[8 rows x 3001 columns]"
            ],
            "text/html": [
              "\n",
              "  <div id=\"df-239abdf8-f0fc-4054-bb5a-17de867288ec\">\n",
              "    <div class=\"colab-df-container\">\n",
              "      <div>\n",
              "<style scoped>\n",
              "    .dataframe tbody tr th:only-of-type {\n",
              "        vertical-align: middle;\n",
              "    }\n",
              "\n",
              "    .dataframe tbody tr th {\n",
              "        vertical-align: top;\n",
              "    }\n",
              "\n",
              "    .dataframe thead th {\n",
              "        text-align: right;\n",
              "    }\n",
              "</style>\n",
              "<table border=\"1\" class=\"dataframe\">\n",
              "  <thead>\n",
              "    <tr style=\"text-align: right;\">\n",
              "      <th></th>\n",
              "      <th>the</th>\n",
              "      <th>to</th>\n",
              "      <th>ect</th>\n",
              "      <th>and</th>\n",
              "      <th>for</th>\n",
              "      <th>of</th>\n",
              "      <th>a</th>\n",
              "      <th>you</th>\n",
              "      <th>hou</th>\n",
              "      <th>in</th>\n",
              "      <th>...</th>\n",
              "      <th>connevey</th>\n",
              "      <th>jay</th>\n",
              "      <th>valued</th>\n",
              "      <th>lay</th>\n",
              "      <th>infrastructure</th>\n",
              "      <th>military</th>\n",
              "      <th>allowing</th>\n",
              "      <th>ff</th>\n",
              "      <th>dry</th>\n",
              "      <th>Prediction</th>\n",
              "    </tr>\n",
              "  </thead>\n",
              "  <tbody>\n",
              "    <tr>\n",
              "      <th>count</th>\n",
              "      <td>5172.000000</td>\n",
              "      <td>5172.000000</td>\n",
              "      <td>5172.000000</td>\n",
              "      <td>5172.000000</td>\n",
              "      <td>5172.000000</td>\n",
              "      <td>5172.000000</td>\n",
              "      <td>5172.000000</td>\n",
              "      <td>5172.000000</td>\n",
              "      <td>5172.000000</td>\n",
              "      <td>5172.000000</td>\n",
              "      <td>...</td>\n",
              "      <td>5172.000000</td>\n",
              "      <td>5172.000000</td>\n",
              "      <td>5172.000000</td>\n",
              "      <td>5172.000000</td>\n",
              "      <td>5172.000000</td>\n",
              "      <td>5172.000000</td>\n",
              "      <td>5172.000000</td>\n",
              "      <td>5172.000000</td>\n",
              "      <td>5172.000000</td>\n",
              "      <td>5172.000000</td>\n",
              "    </tr>\n",
              "    <tr>\n",
              "      <th>mean</th>\n",
              "      <td>6.640565</td>\n",
              "      <td>6.188128</td>\n",
              "      <td>5.143852</td>\n",
              "      <td>3.075599</td>\n",
              "      <td>3.124710</td>\n",
              "      <td>2.627030</td>\n",
              "      <td>55.517401</td>\n",
              "      <td>2.466551</td>\n",
              "      <td>2.024362</td>\n",
              "      <td>10.600155</td>\n",
              "      <td>...</td>\n",
              "      <td>0.005027</td>\n",
              "      <td>0.012568</td>\n",
              "      <td>0.010634</td>\n",
              "      <td>0.098028</td>\n",
              "      <td>0.004254</td>\n",
              "      <td>0.006574</td>\n",
              "      <td>0.004060</td>\n",
              "      <td>0.914733</td>\n",
              "      <td>0.006961</td>\n",
              "      <td>0.290023</td>\n",
              "    </tr>\n",
              "    <tr>\n",
              "      <th>std</th>\n",
              "      <td>11.745009</td>\n",
              "      <td>9.534576</td>\n",
              "      <td>14.101142</td>\n",
              "      <td>6.045970</td>\n",
              "      <td>4.680522</td>\n",
              "      <td>6.229845</td>\n",
              "      <td>87.574172</td>\n",
              "      <td>4.314444</td>\n",
              "      <td>6.967878</td>\n",
              "      <td>19.281892</td>\n",
              "      <td>...</td>\n",
              "      <td>0.105788</td>\n",
              "      <td>0.199682</td>\n",
              "      <td>0.116693</td>\n",
              "      <td>0.569532</td>\n",
              "      <td>0.096252</td>\n",
              "      <td>0.138908</td>\n",
              "      <td>0.072145</td>\n",
              "      <td>2.780203</td>\n",
              "      <td>0.098086</td>\n",
              "      <td>0.453817</td>\n",
              "    </tr>\n",
              "    <tr>\n",
              "      <th>min</th>\n",
              "      <td>0.000000</td>\n",
              "      <td>0.000000</td>\n",
              "      <td>1.000000</td>\n",
              "      <td>0.000000</td>\n",
              "      <td>0.000000</td>\n",
              "      <td>0.000000</td>\n",
              "      <td>0.000000</td>\n",
              "      <td>0.000000</td>\n",
              "      <td>0.000000</td>\n",
              "      <td>0.000000</td>\n",
              "      <td>...</td>\n",
              "      <td>0.000000</td>\n",
              "      <td>0.000000</td>\n",
              "      <td>0.000000</td>\n",
              "      <td>0.000000</td>\n",
              "      <td>0.000000</td>\n",
              "      <td>0.000000</td>\n",
              "      <td>0.000000</td>\n",
              "      <td>0.000000</td>\n",
              "      <td>0.000000</td>\n",
              "      <td>0.000000</td>\n",
              "    </tr>\n",
              "    <tr>\n",
              "      <th>25%</th>\n",
              "      <td>0.000000</td>\n",
              "      <td>1.000000</td>\n",
              "      <td>1.000000</td>\n",
              "      <td>0.000000</td>\n",
              "      <td>1.000000</td>\n",
              "      <td>0.000000</td>\n",
              "      <td>12.000000</td>\n",
              "      <td>0.000000</td>\n",
              "      <td>0.000000</td>\n",
              "      <td>1.000000</td>\n",
              "      <td>...</td>\n",
              "      <td>0.000000</td>\n",
              "      <td>0.000000</td>\n",
              "      <td>0.000000</td>\n",
              "      <td>0.000000</td>\n",
              "      <td>0.000000</td>\n",
              "      <td>0.000000</td>\n",
              "      <td>0.000000</td>\n",
              "      <td>0.000000</td>\n",
              "      <td>0.000000</td>\n",
              "      <td>0.000000</td>\n",
              "    </tr>\n",
              "    <tr>\n",
              "      <th>50%</th>\n",
              "      <td>3.000000</td>\n",
              "      <td>3.000000</td>\n",
              "      <td>1.000000</td>\n",
              "      <td>1.000000</td>\n",
              "      <td>2.000000</td>\n",
              "      <td>1.000000</td>\n",
              "      <td>28.000000</td>\n",
              "      <td>1.000000</td>\n",
              "      <td>0.000000</td>\n",
              "      <td>5.000000</td>\n",
              "      <td>...</td>\n",
              "      <td>0.000000</td>\n",
              "      <td>0.000000</td>\n",
              "      <td>0.000000</td>\n",
              "      <td>0.000000</td>\n",
              "      <td>0.000000</td>\n",
              "      <td>0.000000</td>\n",
              "      <td>0.000000</td>\n",
              "      <td>0.000000</td>\n",
              "      <td>0.000000</td>\n",
              "      <td>0.000000</td>\n",
              "    </tr>\n",
              "    <tr>\n",
              "      <th>75%</th>\n",
              "      <td>8.000000</td>\n",
              "      <td>7.000000</td>\n",
              "      <td>4.000000</td>\n",
              "      <td>3.000000</td>\n",
              "      <td>4.000000</td>\n",
              "      <td>2.000000</td>\n",
              "      <td>62.250000</td>\n",
              "      <td>3.000000</td>\n",
              "      <td>1.000000</td>\n",
              "      <td>12.000000</td>\n",
              "      <td>...</td>\n",
              "      <td>0.000000</td>\n",
              "      <td>0.000000</td>\n",
              "      <td>0.000000</td>\n",
              "      <td>0.000000</td>\n",
              "      <td>0.000000</td>\n",
              "      <td>0.000000</td>\n",
              "      <td>0.000000</td>\n",
              "      <td>1.000000</td>\n",
              "      <td>0.000000</td>\n",
              "      <td>1.000000</td>\n",
              "    </tr>\n",
              "    <tr>\n",
              "      <th>max</th>\n",
              "      <td>210.000000</td>\n",
              "      <td>132.000000</td>\n",
              "      <td>344.000000</td>\n",
              "      <td>89.000000</td>\n",
              "      <td>47.000000</td>\n",
              "      <td>77.000000</td>\n",
              "      <td>1898.000000</td>\n",
              "      <td>70.000000</td>\n",
              "      <td>167.000000</td>\n",
              "      <td>223.000000</td>\n",
              "      <td>...</td>\n",
              "      <td>4.000000</td>\n",
              "      <td>7.000000</td>\n",
              "      <td>2.000000</td>\n",
              "      <td>12.000000</td>\n",
              "      <td>3.000000</td>\n",
              "      <td>4.000000</td>\n",
              "      <td>3.000000</td>\n",
              "      <td>114.000000</td>\n",
              "      <td>4.000000</td>\n",
              "      <td>1.000000</td>\n",
              "    </tr>\n",
              "  </tbody>\n",
              "</table>\n",
              "<p>8 rows × 3001 columns</p>\n",
              "</div>\n",
              "      <button class=\"colab-df-convert\" onclick=\"convertToInteractive('df-239abdf8-f0fc-4054-bb5a-17de867288ec')\"\n",
              "              title=\"Convert this dataframe to an interactive table.\"\n",
              "              style=\"display:none;\">\n",
              "        \n",
              "  <svg xmlns=\"http://www.w3.org/2000/svg\" height=\"24px\"viewBox=\"0 0 24 24\"\n",
              "       width=\"24px\">\n",
              "    <path d=\"M0 0h24v24H0V0z\" fill=\"none\"/>\n",
              "    <path d=\"M18.56 5.44l.94 2.06.94-2.06 2.06-.94-2.06-.94-.94-2.06-.94 2.06-2.06.94zm-11 1L8.5 8.5l.94-2.06 2.06-.94-2.06-.94L8.5 2.5l-.94 2.06-2.06.94zm10 10l.94 2.06.94-2.06 2.06-.94-2.06-.94-.94-2.06-.94 2.06-2.06.94z\"/><path d=\"M17.41 7.96l-1.37-1.37c-.4-.4-.92-.59-1.43-.59-.52 0-1.04.2-1.43.59L10.3 9.45l-7.72 7.72c-.78.78-.78 2.05 0 2.83L4 21.41c.39.39.9.59 1.41.59.51 0 1.02-.2 1.41-.59l7.78-7.78 2.81-2.81c.8-.78.8-2.07 0-2.86zM5.41 20L4 18.59l7.72-7.72 1.47 1.35L5.41 20z\"/>\n",
              "  </svg>\n",
              "      </button>\n",
              "      \n",
              "  <style>\n",
              "    .colab-df-container {\n",
              "      display:flex;\n",
              "      flex-wrap:wrap;\n",
              "      gap: 12px;\n",
              "    }\n",
              "\n",
              "    .colab-df-convert {\n",
              "      background-color: #E8F0FE;\n",
              "      border: none;\n",
              "      border-radius: 50%;\n",
              "      cursor: pointer;\n",
              "      display: none;\n",
              "      fill: #1967D2;\n",
              "      height: 32px;\n",
              "      padding: 0 0 0 0;\n",
              "      width: 32px;\n",
              "    }\n",
              "\n",
              "    .colab-df-convert:hover {\n",
              "      background-color: #E2EBFA;\n",
              "      box-shadow: 0px 1px 2px rgba(60, 64, 67, 0.3), 0px 1px 3px 1px rgba(60, 64, 67, 0.15);\n",
              "      fill: #174EA6;\n",
              "    }\n",
              "\n",
              "    [theme=dark] .colab-df-convert {\n",
              "      background-color: #3B4455;\n",
              "      fill: #D2E3FC;\n",
              "    }\n",
              "\n",
              "    [theme=dark] .colab-df-convert:hover {\n",
              "      background-color: #434B5C;\n",
              "      box-shadow: 0px 1px 3px 1px rgba(0, 0, 0, 0.15);\n",
              "      filter: drop-shadow(0px 1px 2px rgba(0, 0, 0, 0.3));\n",
              "      fill: #FFFFFF;\n",
              "    }\n",
              "  </style>\n",
              "\n",
              "      <script>\n",
              "        const buttonEl =\n",
              "          document.querySelector('#df-239abdf8-f0fc-4054-bb5a-17de867288ec button.colab-df-convert');\n",
              "        buttonEl.style.display =\n",
              "          google.colab.kernel.accessAllowed ? 'block' : 'none';\n",
              "\n",
              "        async function convertToInteractive(key) {\n",
              "          const element = document.querySelector('#df-239abdf8-f0fc-4054-bb5a-17de867288ec');\n",
              "          const dataTable =\n",
              "            await google.colab.kernel.invokeFunction('convertToInteractive',\n",
              "                                                     [key], {});\n",
              "          if (!dataTable) return;\n",
              "\n",
              "          const docLinkHtml = 'Like what you see? Visit the ' +\n",
              "            '<a target=\"_blank\" href=https://colab.research.google.com/notebooks/data_table.ipynb>data table notebook</a>'\n",
              "            + ' to learn more about interactive tables.';\n",
              "          element.innerHTML = '';\n",
              "          dataTable['output_type'] = 'display_data';\n",
              "          await google.colab.output.renderOutput(dataTable, element);\n",
              "          const docLink = document.createElement('div');\n",
              "          docLink.innerHTML = docLinkHtml;\n",
              "          element.appendChild(docLink);\n",
              "        }\n",
              "      </script>\n",
              "    </div>\n",
              "  </div>\n",
              "  "
            ]
          },
          "metadata": {},
          "execution_count": 87
        }
      ]
    },
    {
      "cell_type": "code",
      "source": [
        "df.Prediction.value_counts()"
      ],
      "metadata": {
        "colab": {
          "base_uri": "https://localhost:8080/"
        },
        "id": "yvo5WolNVNb1",
        "outputId": "ac3c6388-cf9a-454a-b351-2aa78117bd28"
      },
      "execution_count": null,
      "outputs": [
        {
          "output_type": "execute_result",
          "data": {
            "text/plain": [
              "0    3672\n",
              "1    1500\n",
              "Name: Prediction, dtype: int64"
            ]
          },
          "metadata": {},
          "execution_count": 88
        }
      ]
    },
    {
      "cell_type": "code",
      "source": [
        "1500/3672"
      ],
      "metadata": {
        "colab": {
          "base_uri": "https://localhost:8080/"
        },
        "id": "daEx_KYTVXAh",
        "outputId": "d5ddc046-2221-4ecc-a8f1-5c9050e97129"
      },
      "execution_count": null,
      "outputs": [
        {
          "output_type": "execute_result",
          "data": {
            "text/plain": [
              "0.4084967320261438"
            ]
          },
          "metadata": {},
          "execution_count": 89
        }
      ]
    },
    {
      "cell_type": "code",
      "source": [
        "df.head()"
      ],
      "metadata": {
        "colab": {
          "base_uri": "https://localhost:8080/"
        },
        "id": "1z_qK9kDDfMZ",
        "outputId": "910f1400-46ab-4df3-daaf-49d1d397b09b"
      },
      "execution_count": null,
      "outputs": [
        {
          "output_type": "execute_result",
          "data": {
            "text/plain": [
              "  Email No.  the  to  ect  and  for  of    a  you  hou  ...  connevey  jay  \\\n",
              "0   Email 1    0   0    1    0    0   0    2    0    0  ...         0    0   \n",
              "1   Email 2    8  13   24    6    6   2  102    1   27  ...         0    0   \n",
              "2   Email 3    0   0    1    0    0   0    8    0    0  ...         0    0   \n",
              "3   Email 4    0   5   22    0    5   1   51    2   10  ...         0    0   \n",
              "4   Email 5    7   6   17    1    5   2   57    0    9  ...         0    0   \n",
              "\n",
              "   valued  lay  infrastructure  military  allowing  ff  dry  Prediction  \n",
              "0       0    0               0         0         0   0    0           0  \n",
              "1       0    0               0         0         0   1    0           0  \n",
              "2       0    0               0         0         0   0    0           0  \n",
              "3       0    0               0         0         0   0    0           0  \n",
              "4       0    0               0         0         0   1    0           0  \n",
              "\n",
              "[5 rows x 3002 columns]"
            ],
            "text/html": [
              "\n",
              "  <div id=\"df-ca9dde9f-4217-424c-af2f-096effc115f3\">\n",
              "    <div class=\"colab-df-container\">\n",
              "      <div>\n",
              "<style scoped>\n",
              "    .dataframe tbody tr th:only-of-type {\n",
              "        vertical-align: middle;\n",
              "    }\n",
              "\n",
              "    .dataframe tbody tr th {\n",
              "        vertical-align: top;\n",
              "    }\n",
              "\n",
              "    .dataframe thead th {\n",
              "        text-align: right;\n",
              "    }\n",
              "</style>\n",
              "<table border=\"1\" class=\"dataframe\">\n",
              "  <thead>\n",
              "    <tr style=\"text-align: right;\">\n",
              "      <th></th>\n",
              "      <th>Email No.</th>\n",
              "      <th>the</th>\n",
              "      <th>to</th>\n",
              "      <th>ect</th>\n",
              "      <th>and</th>\n",
              "      <th>for</th>\n",
              "      <th>of</th>\n",
              "      <th>a</th>\n",
              "      <th>you</th>\n",
              "      <th>hou</th>\n",
              "      <th>...</th>\n",
              "      <th>connevey</th>\n",
              "      <th>jay</th>\n",
              "      <th>valued</th>\n",
              "      <th>lay</th>\n",
              "      <th>infrastructure</th>\n",
              "      <th>military</th>\n",
              "      <th>allowing</th>\n",
              "      <th>ff</th>\n",
              "      <th>dry</th>\n",
              "      <th>Prediction</th>\n",
              "    </tr>\n",
              "  </thead>\n",
              "  <tbody>\n",
              "    <tr>\n",
              "      <th>0</th>\n",
              "      <td>Email 1</td>\n",
              "      <td>0</td>\n",
              "      <td>0</td>\n",
              "      <td>1</td>\n",
              "      <td>0</td>\n",
              "      <td>0</td>\n",
              "      <td>0</td>\n",
              "      <td>2</td>\n",
              "      <td>0</td>\n",
              "      <td>0</td>\n",
              "      <td>...</td>\n",
              "      <td>0</td>\n",
              "      <td>0</td>\n",
              "      <td>0</td>\n",
              "      <td>0</td>\n",
              "      <td>0</td>\n",
              "      <td>0</td>\n",
              "      <td>0</td>\n",
              "      <td>0</td>\n",
              "      <td>0</td>\n",
              "      <td>0</td>\n",
              "    </tr>\n",
              "    <tr>\n",
              "      <th>1</th>\n",
              "      <td>Email 2</td>\n",
              "      <td>8</td>\n",
              "      <td>13</td>\n",
              "      <td>24</td>\n",
              "      <td>6</td>\n",
              "      <td>6</td>\n",
              "      <td>2</td>\n",
              "      <td>102</td>\n",
              "      <td>1</td>\n",
              "      <td>27</td>\n",
              "      <td>...</td>\n",
              "      <td>0</td>\n",
              "      <td>0</td>\n",
              "      <td>0</td>\n",
              "      <td>0</td>\n",
              "      <td>0</td>\n",
              "      <td>0</td>\n",
              "      <td>0</td>\n",
              "      <td>1</td>\n",
              "      <td>0</td>\n",
              "      <td>0</td>\n",
              "    </tr>\n",
              "    <tr>\n",
              "      <th>2</th>\n",
              "      <td>Email 3</td>\n",
              "      <td>0</td>\n",
              "      <td>0</td>\n",
              "      <td>1</td>\n",
              "      <td>0</td>\n",
              "      <td>0</td>\n",
              "      <td>0</td>\n",
              "      <td>8</td>\n",
              "      <td>0</td>\n",
              "      <td>0</td>\n",
              "      <td>...</td>\n",
              "      <td>0</td>\n",
              "      <td>0</td>\n",
              "      <td>0</td>\n",
              "      <td>0</td>\n",
              "      <td>0</td>\n",
              "      <td>0</td>\n",
              "      <td>0</td>\n",
              "      <td>0</td>\n",
              "      <td>0</td>\n",
              "      <td>0</td>\n",
              "    </tr>\n",
              "    <tr>\n",
              "      <th>3</th>\n",
              "      <td>Email 4</td>\n",
              "      <td>0</td>\n",
              "      <td>5</td>\n",
              "      <td>22</td>\n",
              "      <td>0</td>\n",
              "      <td>5</td>\n",
              "      <td>1</td>\n",
              "      <td>51</td>\n",
              "      <td>2</td>\n",
              "      <td>10</td>\n",
              "      <td>...</td>\n",
              "      <td>0</td>\n",
              "      <td>0</td>\n",
              "      <td>0</td>\n",
              "      <td>0</td>\n",
              "      <td>0</td>\n",
              "      <td>0</td>\n",
              "      <td>0</td>\n",
              "      <td>0</td>\n",
              "      <td>0</td>\n",
              "      <td>0</td>\n",
              "    </tr>\n",
              "    <tr>\n",
              "      <th>4</th>\n",
              "      <td>Email 5</td>\n",
              "      <td>7</td>\n",
              "      <td>6</td>\n",
              "      <td>17</td>\n",
              "      <td>1</td>\n",
              "      <td>5</td>\n",
              "      <td>2</td>\n",
              "      <td>57</td>\n",
              "      <td>0</td>\n",
              "      <td>9</td>\n",
              "      <td>...</td>\n",
              "      <td>0</td>\n",
              "      <td>0</td>\n",
              "      <td>0</td>\n",
              "      <td>0</td>\n",
              "      <td>0</td>\n",
              "      <td>0</td>\n",
              "      <td>0</td>\n",
              "      <td>1</td>\n",
              "      <td>0</td>\n",
              "      <td>0</td>\n",
              "    </tr>\n",
              "  </tbody>\n",
              "</table>\n",
              "<p>5 rows × 3002 columns</p>\n",
              "</div>\n",
              "      <button class=\"colab-df-convert\" onclick=\"convertToInteractive('df-ca9dde9f-4217-424c-af2f-096effc115f3')\"\n",
              "              title=\"Convert this dataframe to an interactive table.\"\n",
              "              style=\"display:none;\">\n",
              "        \n",
              "  <svg xmlns=\"http://www.w3.org/2000/svg\" height=\"24px\"viewBox=\"0 0 24 24\"\n",
              "       width=\"24px\">\n",
              "    <path d=\"M0 0h24v24H0V0z\" fill=\"none\"/>\n",
              "    <path d=\"M18.56 5.44l.94 2.06.94-2.06 2.06-.94-2.06-.94-.94-2.06-.94 2.06-2.06.94zm-11 1L8.5 8.5l.94-2.06 2.06-.94-2.06-.94L8.5 2.5l-.94 2.06-2.06.94zm10 10l.94 2.06.94-2.06 2.06-.94-2.06-.94-.94-2.06-.94 2.06-2.06.94z\"/><path d=\"M17.41 7.96l-1.37-1.37c-.4-.4-.92-.59-1.43-.59-.52 0-1.04.2-1.43.59L10.3 9.45l-7.72 7.72c-.78.78-.78 2.05 0 2.83L4 21.41c.39.39.9.59 1.41.59.51 0 1.02-.2 1.41-.59l7.78-7.78 2.81-2.81c.8-.78.8-2.07 0-2.86zM5.41 20L4 18.59l7.72-7.72 1.47 1.35L5.41 20z\"/>\n",
              "  </svg>\n",
              "      </button>\n",
              "      \n",
              "  <style>\n",
              "    .colab-df-container {\n",
              "      display:flex;\n",
              "      flex-wrap:wrap;\n",
              "      gap: 12px;\n",
              "    }\n",
              "\n",
              "    .colab-df-convert {\n",
              "      background-color: #E8F0FE;\n",
              "      border: none;\n",
              "      border-radius: 50%;\n",
              "      cursor: pointer;\n",
              "      display: none;\n",
              "      fill: #1967D2;\n",
              "      height: 32px;\n",
              "      padding: 0 0 0 0;\n",
              "      width: 32px;\n",
              "    }\n",
              "\n",
              "    .colab-df-convert:hover {\n",
              "      background-color: #E2EBFA;\n",
              "      box-shadow: 0px 1px 2px rgba(60, 64, 67, 0.3), 0px 1px 3px 1px rgba(60, 64, 67, 0.15);\n",
              "      fill: #174EA6;\n",
              "    }\n",
              "\n",
              "    [theme=dark] .colab-df-convert {\n",
              "      background-color: #3B4455;\n",
              "      fill: #D2E3FC;\n",
              "    }\n",
              "\n",
              "    [theme=dark] .colab-df-convert:hover {\n",
              "      background-color: #434B5C;\n",
              "      box-shadow: 0px 1px 3px 1px rgba(0, 0, 0, 0.15);\n",
              "      filter: drop-shadow(0px 1px 2px rgba(0, 0, 0, 0.3));\n",
              "      fill: #FFFFFF;\n",
              "    }\n",
              "  </style>\n",
              "\n",
              "      <script>\n",
              "        const buttonEl =\n",
              "          document.querySelector('#df-ca9dde9f-4217-424c-af2f-096effc115f3 button.colab-df-convert');\n",
              "        buttonEl.style.display =\n",
              "          google.colab.kernel.accessAllowed ? 'block' : 'none';\n",
              "\n",
              "        async function convertToInteractive(key) {\n",
              "          const element = document.querySelector('#df-ca9dde9f-4217-424c-af2f-096effc115f3');\n",
              "          const dataTable =\n",
              "            await google.colab.kernel.invokeFunction('convertToInteractive',\n",
              "                                                     [key], {});\n",
              "          if (!dataTable) return;\n",
              "\n",
              "          const docLinkHtml = 'Like what you see? Visit the ' +\n",
              "            '<a target=\"_blank\" href=https://colab.research.google.com/notebooks/data_table.ipynb>data table notebook</a>'\n",
              "            + ' to learn more about interactive tables.';\n",
              "          element.innerHTML = '';\n",
              "          dataTable['output_type'] = 'display_data';\n",
              "          await google.colab.output.renderOutput(dataTable, element);\n",
              "          const docLink = document.createElement('div');\n",
              "          docLink.innerHTML = docLinkHtml;\n",
              "          element.appendChild(docLink);\n",
              "        }\n",
              "      </script>\n",
              "    </div>\n",
              "  </div>\n",
              "  "
            ]
          },
          "metadata": {},
          "execution_count": 90
        }
      ]
    },
    {
      "cell_type": "code",
      "source": [
        "df = df.set_index(\"Email No.\")"
      ],
      "metadata": {
        "id": "yChMBvavovgR"
      },
      "execution_count": null,
      "outputs": []
    },
    {
      "cell_type": "code",
      "source": [
        "df.shape"
      ],
      "metadata": {
        "colab": {
          "base_uri": "https://localhost:8080/"
        },
        "id": "FmwfwRdaDt8J",
        "outputId": "64bb982f-f848-4507-9832-9bf4f0dfe314"
      },
      "execution_count": null,
      "outputs": [
        {
          "output_type": "execute_result",
          "data": {
            "text/plain": [
              "(5172, 3001)"
            ]
          },
          "metadata": {},
          "execution_count": 92
        }
      ]
    },
    {
      "cell_type": "markdown",
      "source": [
        "**Are there any missing values?**"
      ],
      "metadata": {
        "id": "Fi-xXHuTTowe"
      }
    },
    {
      "cell_type": "code",
      "source": [
        "df.isnull().sum()"
      ],
      "metadata": {
        "colab": {
          "base_uri": "https://localhost:8080/"
        },
        "id": "yqhUxYZnPhZC",
        "outputId": "c384a4a6-0cda-4b65-e814-609a8698ac0b"
      },
      "execution_count": null,
      "outputs": [
        {
          "output_type": "execute_result",
          "data": {
            "text/plain": [
              "the           0\n",
              "to            0\n",
              "ect           0\n",
              "and           0\n",
              "for           0\n",
              "             ..\n",
              "military      0\n",
              "allowing      0\n",
              "ff            0\n",
              "dry           0\n",
              "Prediction    0\n",
              "Length: 3001, dtype: int64"
            ]
          },
          "metadata": {},
          "execution_count": 93
        }
      ]
    },
    {
      "cell_type": "markdown",
      "source": [
        "**Separate data into X and Y:**"
      ],
      "metadata": {
        "id": "SlBWUnpXP4jS"
      }
    },
    {
      "cell_type": "code",
      "source": [
        "X = df.iloc[:, 0:3000]\n",
        "Y = df.iloc[:, 3000:]"
      ],
      "metadata": {
        "id": "_oFVchnHTRtr"
      },
      "execution_count": null,
      "outputs": []
    },
    {
      "cell_type": "code",
      "source": [
        "X"
      ],
      "metadata": {
        "colab": {
          "base_uri": "https://localhost:8080/"
        },
        "id": "cLnyiobJspR5",
        "outputId": "71135ec3-e43d-42e8-bca9-de55681c9926"
      },
      "execution_count": null,
      "outputs": [
        {
          "output_type": "execute_result",
          "data": {
            "text/plain": [
              "            the  to  ect  and  for  of    a  you  hou  in  ...  enhancements  \\\n",
              "Email No.                                                  ...                 \n",
              "Email 1       0   0    1    0    0   0    2    0    0   0  ...             0   \n",
              "Email 2       8  13   24    6    6   2  102    1   27  18  ...             0   \n",
              "Email 3       0   0    1    0    0   0    8    0    0   4  ...             0   \n",
              "Email 4       0   5   22    0    5   1   51    2   10   1  ...             0   \n",
              "Email 5       7   6   17    1    5   2   57    0    9   3  ...             0   \n",
              "...         ...  ..  ...  ...  ...  ..  ...  ...  ...  ..  ...           ...   \n",
              "Email 5168    2   2    2    3    0   0   32    0    0   5  ...             0   \n",
              "Email 5169   35  27   11    2    6   5  151    4    3  23  ...             0   \n",
              "Email 5170    0   0    1    1    0   0   11    0    0   1  ...             0   \n",
              "Email 5171    2   7    1    0    2   1   28    2    0   8  ...             0   \n",
              "Email 5172   22  24    5    1    6   5  148    8    2  23  ...             0   \n",
              "\n",
              "            connevey  jay  valued  lay  infrastructure  military  allowing  \\\n",
              "Email No.                                                                    \n",
              "Email 1            0    0       0    0               0         0         0   \n",
              "Email 2            0    0       0    0               0         0         0   \n",
              "Email 3            0    0       0    0               0         0         0   \n",
              "Email 4            0    0       0    0               0         0         0   \n",
              "Email 5            0    0       0    0               0         0         0   \n",
              "...              ...  ...     ...  ...             ...       ...       ...   \n",
              "Email 5168         0    0       0    0               0         0         0   \n",
              "Email 5169         0    0       0    0               0         0         0   \n",
              "Email 5170         0    0       0    0               0         0         0   \n",
              "Email 5171         0    0       0    0               0         0         0   \n",
              "Email 5172         0    0       0    0               0         0         0   \n",
              "\n",
              "            ff  dry  \n",
              "Email No.            \n",
              "Email 1      0    0  \n",
              "Email 2      1    0  \n",
              "Email 3      0    0  \n",
              "Email 4      0    0  \n",
              "Email 5      1    0  \n",
              "...         ..  ...  \n",
              "Email 5168   0    0  \n",
              "Email 5169   1    0  \n",
              "Email 5170   0    0  \n",
              "Email 5171   1    0  \n",
              "Email 5172   0    0  \n",
              "\n",
              "[5172 rows x 3000 columns]"
            ],
            "text/html": [
              "\n",
              "  <div id=\"df-037aa828-98ef-47b4-936e-7b49b4622ec5\">\n",
              "    <div class=\"colab-df-container\">\n",
              "      <div>\n",
              "<style scoped>\n",
              "    .dataframe tbody tr th:only-of-type {\n",
              "        vertical-align: middle;\n",
              "    }\n",
              "\n",
              "    .dataframe tbody tr th {\n",
              "        vertical-align: top;\n",
              "    }\n",
              "\n",
              "    .dataframe thead th {\n",
              "        text-align: right;\n",
              "    }\n",
              "</style>\n",
              "<table border=\"1\" class=\"dataframe\">\n",
              "  <thead>\n",
              "    <tr style=\"text-align: right;\">\n",
              "      <th></th>\n",
              "      <th>the</th>\n",
              "      <th>to</th>\n",
              "      <th>ect</th>\n",
              "      <th>and</th>\n",
              "      <th>for</th>\n",
              "      <th>of</th>\n",
              "      <th>a</th>\n",
              "      <th>you</th>\n",
              "      <th>hou</th>\n",
              "      <th>in</th>\n",
              "      <th>...</th>\n",
              "      <th>enhancements</th>\n",
              "      <th>connevey</th>\n",
              "      <th>jay</th>\n",
              "      <th>valued</th>\n",
              "      <th>lay</th>\n",
              "      <th>infrastructure</th>\n",
              "      <th>military</th>\n",
              "      <th>allowing</th>\n",
              "      <th>ff</th>\n",
              "      <th>dry</th>\n",
              "    </tr>\n",
              "    <tr>\n",
              "      <th>Email No.</th>\n",
              "      <th></th>\n",
              "      <th></th>\n",
              "      <th></th>\n",
              "      <th></th>\n",
              "      <th></th>\n",
              "      <th></th>\n",
              "      <th></th>\n",
              "      <th></th>\n",
              "      <th></th>\n",
              "      <th></th>\n",
              "      <th></th>\n",
              "      <th></th>\n",
              "      <th></th>\n",
              "      <th></th>\n",
              "      <th></th>\n",
              "      <th></th>\n",
              "      <th></th>\n",
              "      <th></th>\n",
              "      <th></th>\n",
              "      <th></th>\n",
              "      <th></th>\n",
              "    </tr>\n",
              "  </thead>\n",
              "  <tbody>\n",
              "    <tr>\n",
              "      <th>Email 1</th>\n",
              "      <td>0</td>\n",
              "      <td>0</td>\n",
              "      <td>1</td>\n",
              "      <td>0</td>\n",
              "      <td>0</td>\n",
              "      <td>0</td>\n",
              "      <td>2</td>\n",
              "      <td>0</td>\n",
              "      <td>0</td>\n",
              "      <td>0</td>\n",
              "      <td>...</td>\n",
              "      <td>0</td>\n",
              "      <td>0</td>\n",
              "      <td>0</td>\n",
              "      <td>0</td>\n",
              "      <td>0</td>\n",
              "      <td>0</td>\n",
              "      <td>0</td>\n",
              "      <td>0</td>\n",
              "      <td>0</td>\n",
              "      <td>0</td>\n",
              "    </tr>\n",
              "    <tr>\n",
              "      <th>Email 2</th>\n",
              "      <td>8</td>\n",
              "      <td>13</td>\n",
              "      <td>24</td>\n",
              "      <td>6</td>\n",
              "      <td>6</td>\n",
              "      <td>2</td>\n",
              "      <td>102</td>\n",
              "      <td>1</td>\n",
              "      <td>27</td>\n",
              "      <td>18</td>\n",
              "      <td>...</td>\n",
              "      <td>0</td>\n",
              "      <td>0</td>\n",
              "      <td>0</td>\n",
              "      <td>0</td>\n",
              "      <td>0</td>\n",
              "      <td>0</td>\n",
              "      <td>0</td>\n",
              "      <td>0</td>\n",
              "      <td>1</td>\n",
              "      <td>0</td>\n",
              "    </tr>\n",
              "    <tr>\n",
              "      <th>Email 3</th>\n",
              "      <td>0</td>\n",
              "      <td>0</td>\n",
              "      <td>1</td>\n",
              "      <td>0</td>\n",
              "      <td>0</td>\n",
              "      <td>0</td>\n",
              "      <td>8</td>\n",
              "      <td>0</td>\n",
              "      <td>0</td>\n",
              "      <td>4</td>\n",
              "      <td>...</td>\n",
              "      <td>0</td>\n",
              "      <td>0</td>\n",
              "      <td>0</td>\n",
              "      <td>0</td>\n",
              "      <td>0</td>\n",
              "      <td>0</td>\n",
              "      <td>0</td>\n",
              "      <td>0</td>\n",
              "      <td>0</td>\n",
              "      <td>0</td>\n",
              "    </tr>\n",
              "    <tr>\n",
              "      <th>Email 4</th>\n",
              "      <td>0</td>\n",
              "      <td>5</td>\n",
              "      <td>22</td>\n",
              "      <td>0</td>\n",
              "      <td>5</td>\n",
              "      <td>1</td>\n",
              "      <td>51</td>\n",
              "      <td>2</td>\n",
              "      <td>10</td>\n",
              "      <td>1</td>\n",
              "      <td>...</td>\n",
              "      <td>0</td>\n",
              "      <td>0</td>\n",
              "      <td>0</td>\n",
              "      <td>0</td>\n",
              "      <td>0</td>\n",
              "      <td>0</td>\n",
              "      <td>0</td>\n",
              "      <td>0</td>\n",
              "      <td>0</td>\n",
              "      <td>0</td>\n",
              "    </tr>\n",
              "    <tr>\n",
              "      <th>Email 5</th>\n",
              "      <td>7</td>\n",
              "      <td>6</td>\n",
              "      <td>17</td>\n",
              "      <td>1</td>\n",
              "      <td>5</td>\n",
              "      <td>2</td>\n",
              "      <td>57</td>\n",
              "      <td>0</td>\n",
              "      <td>9</td>\n",
              "      <td>3</td>\n",
              "      <td>...</td>\n",
              "      <td>0</td>\n",
              "      <td>0</td>\n",
              "      <td>0</td>\n",
              "      <td>0</td>\n",
              "      <td>0</td>\n",
              "      <td>0</td>\n",
              "      <td>0</td>\n",
              "      <td>0</td>\n",
              "      <td>1</td>\n",
              "      <td>0</td>\n",
              "    </tr>\n",
              "    <tr>\n",
              "      <th>...</th>\n",
              "      <td>...</td>\n",
              "      <td>...</td>\n",
              "      <td>...</td>\n",
              "      <td>...</td>\n",
              "      <td>...</td>\n",
              "      <td>...</td>\n",
              "      <td>...</td>\n",
              "      <td>...</td>\n",
              "      <td>...</td>\n",
              "      <td>...</td>\n",
              "      <td>...</td>\n",
              "      <td>...</td>\n",
              "      <td>...</td>\n",
              "      <td>...</td>\n",
              "      <td>...</td>\n",
              "      <td>...</td>\n",
              "      <td>...</td>\n",
              "      <td>...</td>\n",
              "      <td>...</td>\n",
              "      <td>...</td>\n",
              "      <td>...</td>\n",
              "    </tr>\n",
              "    <tr>\n",
              "      <th>Email 5168</th>\n",
              "      <td>2</td>\n",
              "      <td>2</td>\n",
              "      <td>2</td>\n",
              "      <td>3</td>\n",
              "      <td>0</td>\n",
              "      <td>0</td>\n",
              "      <td>32</td>\n",
              "      <td>0</td>\n",
              "      <td>0</td>\n",
              "      <td>5</td>\n",
              "      <td>...</td>\n",
              "      <td>0</td>\n",
              "      <td>0</td>\n",
              "      <td>0</td>\n",
              "      <td>0</td>\n",
              "      <td>0</td>\n",
              "      <td>0</td>\n",
              "      <td>0</td>\n",
              "      <td>0</td>\n",
              "      <td>0</td>\n",
              "      <td>0</td>\n",
              "    </tr>\n",
              "    <tr>\n",
              "      <th>Email 5169</th>\n",
              "      <td>35</td>\n",
              "      <td>27</td>\n",
              "      <td>11</td>\n",
              "      <td>2</td>\n",
              "      <td>6</td>\n",
              "      <td>5</td>\n",
              "      <td>151</td>\n",
              "      <td>4</td>\n",
              "      <td>3</td>\n",
              "      <td>23</td>\n",
              "      <td>...</td>\n",
              "      <td>0</td>\n",
              "      <td>0</td>\n",
              "      <td>0</td>\n",
              "      <td>0</td>\n",
              "      <td>0</td>\n",
              "      <td>0</td>\n",
              "      <td>0</td>\n",
              "      <td>0</td>\n",
              "      <td>1</td>\n",
              "      <td>0</td>\n",
              "    </tr>\n",
              "    <tr>\n",
              "      <th>Email 5170</th>\n",
              "      <td>0</td>\n",
              "      <td>0</td>\n",
              "      <td>1</td>\n",
              "      <td>1</td>\n",
              "      <td>0</td>\n",
              "      <td>0</td>\n",
              "      <td>11</td>\n",
              "      <td>0</td>\n",
              "      <td>0</td>\n",
              "      <td>1</td>\n",
              "      <td>...</td>\n",
              "      <td>0</td>\n",
              "      <td>0</td>\n",
              "      <td>0</td>\n",
              "      <td>0</td>\n",
              "      <td>0</td>\n",
              "      <td>0</td>\n",
              "      <td>0</td>\n",
              "      <td>0</td>\n",
              "      <td>0</td>\n",
              "      <td>0</td>\n",
              "    </tr>\n",
              "    <tr>\n",
              "      <th>Email 5171</th>\n",
              "      <td>2</td>\n",
              "      <td>7</td>\n",
              "      <td>1</td>\n",
              "      <td>0</td>\n",
              "      <td>2</td>\n",
              "      <td>1</td>\n",
              "      <td>28</td>\n",
              "      <td>2</td>\n",
              "      <td>0</td>\n",
              "      <td>8</td>\n",
              "      <td>...</td>\n",
              "      <td>0</td>\n",
              "      <td>0</td>\n",
              "      <td>0</td>\n",
              "      <td>0</td>\n",
              "      <td>0</td>\n",
              "      <td>0</td>\n",
              "      <td>0</td>\n",
              "      <td>0</td>\n",
              "      <td>1</td>\n",
              "      <td>0</td>\n",
              "    </tr>\n",
              "    <tr>\n",
              "      <th>Email 5172</th>\n",
              "      <td>22</td>\n",
              "      <td>24</td>\n",
              "      <td>5</td>\n",
              "      <td>1</td>\n",
              "      <td>6</td>\n",
              "      <td>5</td>\n",
              "      <td>148</td>\n",
              "      <td>8</td>\n",
              "      <td>2</td>\n",
              "      <td>23</td>\n",
              "      <td>...</td>\n",
              "      <td>0</td>\n",
              "      <td>0</td>\n",
              "      <td>0</td>\n",
              "      <td>0</td>\n",
              "      <td>0</td>\n",
              "      <td>0</td>\n",
              "      <td>0</td>\n",
              "      <td>0</td>\n",
              "      <td>0</td>\n",
              "      <td>0</td>\n",
              "    </tr>\n",
              "  </tbody>\n",
              "</table>\n",
              "<p>5172 rows × 3000 columns</p>\n",
              "</div>\n",
              "      <button class=\"colab-df-convert\" onclick=\"convertToInteractive('df-037aa828-98ef-47b4-936e-7b49b4622ec5')\"\n",
              "              title=\"Convert this dataframe to an interactive table.\"\n",
              "              style=\"display:none;\">\n",
              "        \n",
              "  <svg xmlns=\"http://www.w3.org/2000/svg\" height=\"24px\"viewBox=\"0 0 24 24\"\n",
              "       width=\"24px\">\n",
              "    <path d=\"M0 0h24v24H0V0z\" fill=\"none\"/>\n",
              "    <path d=\"M18.56 5.44l.94 2.06.94-2.06 2.06-.94-2.06-.94-.94-2.06-.94 2.06-2.06.94zm-11 1L8.5 8.5l.94-2.06 2.06-.94-2.06-.94L8.5 2.5l-.94 2.06-2.06.94zm10 10l.94 2.06.94-2.06 2.06-.94-2.06-.94-.94-2.06-.94 2.06-2.06.94z\"/><path d=\"M17.41 7.96l-1.37-1.37c-.4-.4-.92-.59-1.43-.59-.52 0-1.04.2-1.43.59L10.3 9.45l-7.72 7.72c-.78.78-.78 2.05 0 2.83L4 21.41c.39.39.9.59 1.41.59.51 0 1.02-.2 1.41-.59l7.78-7.78 2.81-2.81c.8-.78.8-2.07 0-2.86zM5.41 20L4 18.59l7.72-7.72 1.47 1.35L5.41 20z\"/>\n",
              "  </svg>\n",
              "      </button>\n",
              "      \n",
              "  <style>\n",
              "    .colab-df-container {\n",
              "      display:flex;\n",
              "      flex-wrap:wrap;\n",
              "      gap: 12px;\n",
              "    }\n",
              "\n",
              "    .colab-df-convert {\n",
              "      background-color: #E8F0FE;\n",
              "      border: none;\n",
              "      border-radius: 50%;\n",
              "      cursor: pointer;\n",
              "      display: none;\n",
              "      fill: #1967D2;\n",
              "      height: 32px;\n",
              "      padding: 0 0 0 0;\n",
              "      width: 32px;\n",
              "    }\n",
              "\n",
              "    .colab-df-convert:hover {\n",
              "      background-color: #E2EBFA;\n",
              "      box-shadow: 0px 1px 2px rgba(60, 64, 67, 0.3), 0px 1px 3px 1px rgba(60, 64, 67, 0.15);\n",
              "      fill: #174EA6;\n",
              "    }\n",
              "\n",
              "    [theme=dark] .colab-df-convert {\n",
              "      background-color: #3B4455;\n",
              "      fill: #D2E3FC;\n",
              "    }\n",
              "\n",
              "    [theme=dark] .colab-df-convert:hover {\n",
              "      background-color: #434B5C;\n",
              "      box-shadow: 0px 1px 3px 1px rgba(0, 0, 0, 0.15);\n",
              "      filter: drop-shadow(0px 1px 2px rgba(0, 0, 0, 0.3));\n",
              "      fill: #FFFFFF;\n",
              "    }\n",
              "  </style>\n",
              "\n",
              "      <script>\n",
              "        const buttonEl =\n",
              "          document.querySelector('#df-037aa828-98ef-47b4-936e-7b49b4622ec5 button.colab-df-convert');\n",
              "        buttonEl.style.display =\n",
              "          google.colab.kernel.accessAllowed ? 'block' : 'none';\n",
              "\n",
              "        async function convertToInteractive(key) {\n",
              "          const element = document.querySelector('#df-037aa828-98ef-47b4-936e-7b49b4622ec5');\n",
              "          const dataTable =\n",
              "            await google.colab.kernel.invokeFunction('convertToInteractive',\n",
              "                                                     [key], {});\n",
              "          if (!dataTable) return;\n",
              "\n",
              "          const docLinkHtml = 'Like what you see? Visit the ' +\n",
              "            '<a target=\"_blank\" href=https://colab.research.google.com/notebooks/data_table.ipynb>data table notebook</a>'\n",
              "            + ' to learn more about interactive tables.';\n",
              "          element.innerHTML = '';\n",
              "          dataTable['output_type'] = 'display_data';\n",
              "          await google.colab.output.renderOutput(dataTable, element);\n",
              "          const docLink = document.createElement('div');\n",
              "          docLink.innerHTML = docLinkHtml;\n",
              "          element.appendChild(docLink);\n",
              "        }\n",
              "      </script>\n",
              "    </div>\n",
              "  </div>\n",
              "  "
            ]
          },
          "metadata": {},
          "execution_count": 95
        }
      ]
    },
    {
      "cell_type": "markdown",
      "source": [
        "**Split the data into train and test:**"
      ],
      "metadata": {
        "id": "0bRAuLTutYUO"
      }
    },
    {
      "cell_type": "code",
      "source": [
        "from sklearn.model_selection import train_test_split\n",
        "X_train, X_test, Y_train, Y_test = train_test_split(X, Y, test_size=0.2, random_state =1)"
      ],
      "metadata": {
        "id": "7GIPSLRUUjzH"
      },
      "execution_count": null,
      "outputs": []
    },
    {
      "cell_type": "markdown",
      "source": [
        "**Data normalization:**"
      ],
      "metadata": {
        "id": "weZkvA-3V-is"
      }
    },
    {
      "cell_type": "code",
      "source": [
        "from sklearn.preprocessing import MinMaxScaler\n",
        "scaler = MinMaxScaler()\n",
        "X_train = scaler.fit_transform(X_train)\n",
        "X_test = scaler.transform(X_test)"
      ],
      "metadata": {
        "id": "gsqeeDjaVF6E"
      },
      "execution_count": null,
      "outputs": []
    },
    {
      "cell_type": "code",
      "source": [
        "Y_train.value_counts()"
      ],
      "metadata": {
        "colab": {
          "base_uri": "https://localhost:8080/"
        },
        "id": "I5HNS0h4YRYV",
        "outputId": "5f9d24f2-85c8-4d3a-92ac-cc610b747672"
      },
      "execution_count": null,
      "outputs": [
        {
          "output_type": "execute_result",
          "data": {
            "text/plain": [
              "Prediction\n",
              "0             2953\n",
              "1             1184\n",
              "dtype: int64"
            ]
          },
          "metadata": {},
          "execution_count": 98
        }
      ]
    },
    {
      "cell_type": "code",
      "source": [
        "1184/2953"
      ],
      "metadata": {
        "colab": {
          "base_uri": "https://localhost:8080/"
        },
        "id": "-LtsEycVYaRo",
        "outputId": "64ed9675-ef46-4c9d-f63c-ef2b17eddb2d"
      },
      "execution_count": null,
      "outputs": [
        {
          "output_type": "execute_result",
          "data": {
            "text/plain": [
              "0.4009481882831019"
            ]
          },
          "metadata": {},
          "execution_count": 99
        }
      ]
    },
    {
      "cell_type": "markdown",
      "source": [
        "# **Part (II): Fit the bagging model using multiple bootstrapped**"
      ],
      "metadata": {
        "id": "IoDdl4tErLQR"
      }
    },
    {
      "cell_type": "markdown",
      "source": [
        "**Implementation of Decision Tree Classifier as a stand-alone model (without using Bagging model):**"
      ],
      "metadata": {
        "id": "9qQ7fugITYWO"
      }
    },
    {
      "cell_type": "code",
      "source": [
        "from sklearn.tree import DecisionTreeClassifier\n",
        "dec_tree_model = DecisionTreeClassifier()\n",
        "dec_tree_model.fit(X_train, Y_train)"
      ],
      "metadata": {
        "colab": {
          "base_uri": "https://localhost:8080/"
        },
        "id": "zXBayLjxgl8W",
        "outputId": "f667686a-421f-49ca-dfee-f13ab8cbc81e"
      },
      "execution_count": null,
      "outputs": [
        {
          "output_type": "execute_result",
          "data": {
            "text/plain": [
              "DecisionTreeClassifier()"
            ]
          },
          "metadata": {},
          "execution_count": 100
        }
      ]
    },
    {
      "cell_type": "code",
      "source": [
        "Y_predict = dec_tree_model.predict(X_test)"
      ],
      "metadata": {
        "id": "l8Sc2EUSgyEU"
      },
      "execution_count": null,
      "outputs": []
    },
    {
      "cell_type": "markdown",
      "source": [
        "**Accuracy of the stand-alone model:**"
      ],
      "metadata": {
        "id": "DY5kasYviLfX"
      }
    },
    {
      "cell_type": "code",
      "source": [
        "from sklearn.metrics import accuracy_score\n",
        "print(accuracy_score(Y_test, Y_predict))"
      ],
      "metadata": {
        "colab": {
          "base_uri": "https://localhost:8080/"
        },
        "id": "z7OMX5k3g6Ey",
        "outputId": "35f9a816-c5be-4188-ff41-858f189bce41"
      },
      "execution_count": null,
      "outputs": [
        {
          "output_type": "stream",
          "name": "stdout",
          "text": [
            "0.9429951690821256\n"
          ]
        }
      ]
    },
    {
      "cell_type": "code",
      "source": [
        "dec_tree_model.score(X_test, Y_test)"
      ],
      "metadata": {
        "colab": {
          "base_uri": "https://localhost:8080/"
        },
        "id": "LbImKgSFypTJ",
        "outputId": "c8d644ce-37e5-48dc-9ca8-cf9954c5dee8"
      },
      "execution_count": null,
      "outputs": [
        {
          "output_type": "execute_result",
          "data": {
            "text/plain": [
              "0.9429951690821256"
            ]
          },
          "metadata": {},
          "execution_count": 103
        }
      ]
    },
    {
      "cell_type": "markdown",
      "source": [
        "**Implementation of Bagging model:**"
      ],
      "metadata": {
        "id": "scsMf2JhaU4C"
      }
    },
    {
      "cell_type": "code",
      "source": [
        "from sklearn.ensemble import BaggingClassifier\n",
        "bag_model = BaggingClassifier(base_estimator= DecisionTreeClassifier(),\n",
        "                        n_estimators=40, \n",
        "                        max_samples= 0.8,\n",
        "                        oob_score=True,\n",
        "                        random_state=0)\n",
        "bag_model.fit(X_train, Y_train)\n",
        "bag_model.oob_score_"
      ],
      "metadata": {
        "colab": {
          "base_uri": "https://localhost:8080/"
        },
        "id": "oyOIKD61aUk9",
        "outputId": "62fd8394-01ad-453d-f727-ed7e8755875a"
      },
      "execution_count": null,
      "outputs": [
        {
          "output_type": "execute_result",
          "data": {
            "text/plain": [
              "0.9550398839738942"
            ]
          },
          "metadata": {},
          "execution_count": 104
        }
      ]
    },
    {
      "cell_type": "code",
      "source": [
        "Y_predict = bag_model.predict(X_test)"
      ],
      "metadata": {
        "id": "_oMz_necdXHn"
      },
      "execution_count": null,
      "outputs": []
    },
    {
      "cell_type": "markdown",
      "source": [
        "**Evaluation of the model:**"
      ],
      "metadata": {
        "id": "xsjw7G_uXq_2"
      }
    },
    {
      "cell_type": "markdown",
      "source": [
        "**1. Accuracy score:**"
      ],
      "metadata": {
        "id": "kpwc2LfEirdX"
      }
    },
    {
      "cell_type": "code",
      "source": [
        "from sklearn.metrics import accuracy_score\n",
        "print(accuracy_score(Y_test, Y_predict))"
      ],
      "metadata": {
        "colab": {
          "base_uri": "https://localhost:8080/"
        },
        "id": "EYEQauD5dkhm",
        "outputId": "04be5846-da69-4337-9c07-17345268a3ac"
      },
      "execution_count": null,
      "outputs": [
        {
          "output_type": "stream",
          "name": "stdout",
          "text": [
            "0.9565217391304348\n"
          ]
        }
      ]
    },
    {
      "cell_type": "code",
      "source": [
        "bag_model.score(X_test, Y_test)"
      ],
      "metadata": {
        "colab": {
          "base_uri": "https://localhost:8080/"
        },
        "id": "P-0OOTAQcWto",
        "outputId": "ec59d7b1-b9c2-42a7-e5a7-4429ba863228"
      },
      "execution_count": null,
      "outputs": [
        {
          "output_type": "execute_result",
          "data": {
            "text/plain": [
              "0.9565217391304348"
            ]
          },
          "metadata": {},
          "execution_count": 107
        }
      ]
    },
    {
      "cell_type": "markdown",
      "source": [
        "**2. Classification report:**"
      ],
      "metadata": {
        "id": "qP19JG_Y0PrN"
      }
    },
    {
      "cell_type": "code",
      "source": [
        "from sklearn.metrics import classification_report\n",
        "print(classification_report(Y_test, Y_predict))"
      ],
      "metadata": {
        "id": "R_xEYqXeXphr",
        "colab": {
          "base_uri": "https://localhost:8080/"
        },
        "outputId": "26570fe8-a873-4efc-cc5e-8774001d30df"
      },
      "execution_count": null,
      "outputs": [
        {
          "output_type": "stream",
          "name": "stdout",
          "text": [
            "              precision    recall  f1-score   support\n",
            "\n",
            "           0       0.97      0.97      0.97       719\n",
            "           1       0.92      0.93      0.93       316\n",
            "\n",
            "    accuracy                           0.96      1035\n",
            "   macro avg       0.95      0.95      0.95      1035\n",
            "weighted avg       0.96      0.96      0.96      1035\n",
            "\n"
          ]
        }
      ]
    },
    {
      "cell_type": "markdown",
      "source": [
        "**3. Confusion matrix:**"
      ],
      "metadata": {
        "id": "-CJnyjUXz_VJ"
      }
    },
    {
      "cell_type": "code",
      "source": [
        "from sklearn.metrics import confusion_matrix\n",
        "cm = confusion_matrix(Y_test, Y_predict)\n",
        "cm"
      ],
      "metadata": {
        "colab": {
          "base_uri": "https://localhost:8080/"
        },
        "id": "pE1lXOeojxwT",
        "outputId": "7f36e268-b953-413d-a547-a6cf4c96a961"
      },
      "execution_count": null,
      "outputs": [
        {
          "output_type": "execute_result",
          "data": {
            "text/plain": [
              "array([[695,  24],\n",
              "       [ 21, 295]])"
            ]
          },
          "metadata": {},
          "execution_count": 109
        }
      ]
    },
    {
      "cell_type": "code",
      "source": [
        "import matplotlib.pyplot as plt\n",
        "import seaborn as sn\n",
        "plt.figure(figsize=(8,6))\n",
        "sn.heatmap(cm,annot=True)\n",
        "plt.title('Confusion Matrix')\n",
        "plt.xlabel('Predicted Values')\n",
        "plt.ylabel('Actual Values')\n",
        "plt.show()"
      ],
      "metadata": {
        "colab": {
          "base_uri": "https://localhost:8080/",
          "height": 404
        },
        "outputId": "5d77cd51-4e9f-4193-a439-471121eab2d1",
        "id": "f8d02H4mxC-0"
      },
      "execution_count": null,
      "outputs": [
        {
          "output_type": "display_data",
          "data": {
            "text/plain": [
              "<Figure size 576x432 with 2 Axes>"
            ],
            "image/png": "[encoded data removed]"
          },
          "metadata": {
            "needs_background": "light"
          }
        }
      ]
    },
    {
      "cell_type": "markdown",
      "source": [
        "# **Part (III):\tFit the Random Forest Model and compare with Bagging**"
      ],
      "metadata": {
        "id": "jf6Ah6OXtcNm"
      }
    },
    {
      "cell_type": "code",
      "source": [
        "from sklearn.ensemble import RandomForestClassifier\n",
        "rf = RandomForestClassifier(n_estimators= 40)\n",
        "rf.fit(X_train, Y_train)"
      ],
      "metadata": {
        "colab": {
          "base_uri": "https://localhost:8080/"
        },
        "id": "3dn1I6hhtbRm",
        "outputId": "96a6830b-7368-4d51-97ea-5d8a4cf7d51b"
      },
      "execution_count": null,
      "outputs": [
        {
          "output_type": "execute_result",
          "data": {
            "text/plain": [
              "RandomForestClassifier(n_estimators=40)"
            ]
          },
          "metadata": {},
          "execution_count": 111
        }
      ]
    },
    {
      "cell_type": "code",
      "source": [
        "Y_predict = rf.predict(X_test)"
      ],
      "metadata": {
        "id": "bJj0YNUMumR0"
      },
      "execution_count": null,
      "outputs": []
    },
    {
      "cell_type": "markdown",
      "source": [
        "**Evaluation of the model:**"
      ],
      "metadata": {
        "id": "26XNst1nurVF"
      }
    },
    {
      "cell_type": "markdown",
      "source": [
        "**1. Accuracy score:**"
      ],
      "metadata": {
        "id": "DHK1sBWfurVO"
      }
    },
    {
      "cell_type": "code",
      "source": [
        "from sklearn.metrics import accuracy_score\n",
        "print(accuracy_score(Y_test, Y_predict))"
      ],
      "metadata": {
        "colab": {
          "base_uri": "https://localhost:8080/"
        },
        "outputId": "0402d9ad-46c6-43a1-be95-0918ed2cd1b8",
        "id": "Mk3c8lDFurVP"
      },
      "execution_count": null,
      "outputs": [
        {
          "output_type": "stream",
          "name": "stdout",
          "text": [
            "0.9681159420289855\n"
          ]
        }
      ]
    },
    {
      "cell_type": "code",
      "source": [
        "rf.score(X_test, Y_test)"
      ],
      "metadata": {
        "colab": {
          "base_uri": "https://localhost:8080/"
        },
        "id": "qsXzZFzNs_Uk",
        "outputId": "1b896a47-e6d8-430b-94f5-080245f21370"
      },
      "execution_count": null,
      "outputs": [
        {
          "output_type": "execute_result",
          "data": {
            "text/plain": [
              "0.9681159420289855"
            ]
          },
          "metadata": {},
          "execution_count": 114
        }
      ]
    },
    {
      "cell_type": "markdown",
      "source": [
        "**2. Classification report:**"
      ],
      "metadata": {
        "id": "I5NqDDnZurVV"
      }
    },
    {
      "cell_type": "code",
      "source": [
        "from sklearn.metrics import classification_report\n",
        "print(classification_report(Y_test, Y_predict))"
      ],
      "metadata": {
        "colab": {
          "base_uri": "https://localhost:8080/"
        },
        "outputId": "9bd0b563-9b31-472a-b82b-854ff96d50b0",
        "id": "4iY_4r6UurVV"
      },
      "execution_count": null,
      "outputs": [
        {
          "output_type": "stream",
          "name": "stdout",
          "text": [
            "              precision    recall  f1-score   support\n",
            "\n",
            "           0       0.97      0.98      0.98       719\n",
            "           1       0.96      0.93      0.95       316\n",
            "\n",
            "    accuracy                           0.97      1035\n",
            "   macro avg       0.97      0.96      0.96      1035\n",
            "weighted avg       0.97      0.97      0.97      1035\n",
            "\n"
          ]
        }
      ]
    },
    {
      "cell_type": "markdown",
      "source": [
        "**3. Confusion matrix:**"
      ],
      "metadata": {
        "id": "6Df1BQ-rurVV"
      }
    },
    {
      "cell_type": "code",
      "source": [
        "from sklearn.metrics import confusion_matrix\n",
        "cm = confusion_matrix(Y_test, Y_predict)\n",
        "cm"
      ],
      "metadata": {
        "colab": {
          "base_uri": "https://localhost:8080/"
        },
        "outputId": "bab4ca44-e839-48eb-e6e4-d65deb085443",
        "id": "DY4AUL_surVW"
      },
      "execution_count": null,
      "outputs": [
        {
          "output_type": "execute_result",
          "data": {
            "text/plain": [
              "array([[708,  11],\n",
              "       [ 22, 294]])"
            ]
          },
          "metadata": {},
          "execution_count": 116
        }
      ]
    },
    {
      "cell_type": "code",
      "source": [
        "import matplotlib.pyplot as plt\n",
        "import seaborn as sn\n",
        "plt.figure(figsize=(8,6))\n",
        "sn.heatmap(cm,annot=True)\n",
        "plt.title('Confusion Matrix')\n",
        "plt.xlabel('Predicted Values')\n",
        "plt.ylabel('Actual Values')\n",
        "plt.show()"
      ],
      "metadata": {
        "colab": {
          "base_uri": "https://localhost:8080/",
          "height": 404
        },
        "id": "QAlVg5ufv_Zu",
        "outputId": "ab6f3666-c87f-48f9-fe6c-1791303e6ad6"
      },
      "execution_count": null,
      "outputs": [
        {
          "output_type": "display_data",
          "data": {
            "text/plain": [
              "<Figure size 576x432 with 2 Axes>"
            ],
            "image/png": "[encoded data removed]"
          },
          "metadata": {
            "needs_background": "light"
          }
        }
      ]
    },
    {
      "cell_type": "code",
      "source": [
        "print('The accuracy of Bagging model is', bag_model.score(X_test, Y_test), 'whereas the accuracy of Random Forest model is', rf.score(X_test, Y_test),'both having 40 number of trees. ')"
      ],
      "metadata": {
        "colab": {
          "base_uri": "https://localhost:8080/"
        },
        "id": "h23VrLIHxgYn",
        "outputId": "8a38c18b-fda3-45f9-a11b-19e29804ec16"
      },
      "execution_count": null,
      "outputs": [
        {
          "output_type": "stream",
          "name": "stdout",
          "text": [
            "The accuracy of Bagging model is 0.9565217391304348 whereas the accuracy of Random Forest model is 0.9681159420289855 both having 40 number of trees. \n"
          ]
        }
      ]
    },
    {
      "cell_type": "code",
      "source": [
        "print('The accuracy of stand alone decision tree mmodel is', dec_tree_model.score(X_test, Y_test))"
      ],
      "metadata": {
        "colab": {
          "base_uri": "https://localhost:8080/"
        },
        "id": "SEFJ8do8yW-s",
        "outputId": "e39c91b3-4ddd-4eb1-f3aa-1e0bf3d47e71"
      },
      "execution_count": null,
      "outputs": [
        {
          "output_type": "stream",
          "name": "stdout",
          "text": [
            "The accuracy of stand alone decision tree mmodel is 0.9429951690821256\n"
          ]
        }
      ]
    }
  ]
}